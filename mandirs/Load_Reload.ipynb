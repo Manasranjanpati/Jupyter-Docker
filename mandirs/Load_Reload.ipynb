{
 "cells": [
  {
   "cell_type": "code",
   "execution_count": 2,
   "metadata": {},
   "outputs": [
    {
     "name": "stdout",
     "output_type": "stream",
     "text": [
      "Load_Reload2.ipynb\r\n",
      "Unpack It.ipynb\r\n"
     ]
    }
   ],
   "source": [
    "mode = \"unload\"\n",
    "\n",
    "if mode == 'unload':\n",
    "    # Zip all files in the current directory\n",
    "    !tar chvfz notebook.tar.gz *\n",
    "elif mode == 'load':\n",
    "    # Unzip all files in the current directory\n",
    "    !tar -xv -f notebook.tar.gz"
   ]
  },
  {
   "cell_type": "code",
   "execution_count": null,
   "metadata": {},
   "outputs": [],
   "source": []
  }
 ],
 "metadata": {
  "kernelspec": {
   "display_name": "Python 3",
   "language": "python",
   "name": "python3"
  },
  "language_info": {
   "codemirror_mode": {
    "name": "ipython",
    "version": 3
   },
   "file_extension": ".py",
   "mimetype": "text/x-python",
   "name": "python",
   "nbconvert_exporter": "python",
   "pygments_lexer": "ipython3",
   "version": "3.8.5"
  }
 },
 "nbformat": 4,
 "nbformat_minor": 4
}
